{
 "cells": [
  {
   "cell_type": "code",
   "execution_count": 1,
   "id": "d7462ec5-a094-4dd9-b2ff-655a53e33287",
   "metadata": {},
   "outputs": [],
   "source": [
    "from Bio import PDB"
   ]
  },
  {
   "cell_type": "code",
   "execution_count": 2,
   "id": "6ca1e5b1-ba33-4196-830f-91687cd64109",
   "metadata": {},
   "outputs": [],
   "source": [
    "#  Takes a sequence with spaces or /n or non A-Z characters and returns a valid sequence\n",
    "def CleanSeq(raw_seq):\n",
    "    s=raw_seq.replace(' ','')\n",
    "    s=s.replace('\\n','')\n",
    "    s=s.upper()\n",
    "    q=[i for i in s if i.isalpha()]\n",
    "    refine_seq=''.join(q)\n",
    "    return refine_seq\n",
    "\n",
    "#  Confirms that all letters in sequence are valid amino acid codes\n",
    "def CheckAAValid(sequence):\n",
    "    for aa in sequence:\n",
    "        try:\n",
    "            PDB.Polypeptide.one_to_three(aa)\n",
    "            er=0\n",
    "        except KeyError:\n",
    "            er=1\n",
    "            break\n",
    "    if er==1:\n",
    "        print(aa+f' @ index {sequence.find(aa)} is not a valid amino acid code')\n",
    "    elif er==0:\n",
    "        print(\"Everything looks good\")"
   ]
  },
  {
   "cell_type": "code",
   "execution_count": null,
   "id": "02843f8c-b76c-4143-b961-33c2356de490",
   "metadata": {},
   "outputs": [],
   "source": [
    "#  copy/paste your amino acid sequence here as raw_seq\n",
    "#  Amino acid sequences can be found at GenBank protein database (click FASTA)\n",
    "#  This will only be used when creating protein .pdb approximations in alphafold\n",
    "\n",
    "raw_seq = \"\"\"&MLDLLAFRHKIFRENLRWLPVCGNGLDRDEYDAISDNLAICLDGQVVGSVRFTPGTERYMLEKDFSRLLV\n",
    "PDEILYKGGASAEISRFAVDTETLGRKLTASASRLL999YLSLWQWAEWNEIRWMYFVVEPSMYRRLVALGFP\n",
    "IRPVGVPRPLDGGVLSMAGYFDWGQIRGEVIRSLRSRVALPDACPAQWREYDYSH%%%%%%%%%\"\"\""
   ]
  },
  {
   "cell_type": "code",
   "execution_count": 10,
   "id": "1a9dfc69-7470-495f-9813-e11e8ccb7c50",
   "metadata": {},
   "outputs": [
    {
     "name": "stdout",
     "output_type": "stream",
     "text": [
      "Everything looks good\n"
     ]
    }
   ],
   "source": [
    "CheckAAValid(CleanSeq(raw_seq))"
   ]
  },
  {
   "cell_type": "code",
   "execution_count": 11,
   "id": "039b95c1-9fe4-4ce2-9db4-4eecd565a130",
   "metadata": {},
   "outputs": [
    {
     "name": "stdout",
     "output_type": "stream",
     "text": [
      "MLDLLAFRHKIFRENLRWLPVCGNGLDRDEYDAISDNLAICLDGQVVGSVRFTPGTERYMLEKDFSRLLVPDEILYKGGASAEISRFAVDTETLGRKLTASASRLLYLSLWQWAEWNEIRWMYFVVEPSMYRRLVALGFPIRPVGVPRPLDGGVLSMAGYFDWGQIRGEVIRSLRSRVALPDACPAQWREYDYSH\n"
     ]
    }
   ],
   "source": [
    "print(CleanSeq(raw_seq))"
   ]
  },
  {
   "cell_type": "code",
   "execution_count": null,
   "id": "6de1cbc7-6b3d-4c3a-8e1c-6221941a22c8",
   "metadata": {},
   "outputs": [],
   "source": []
  }
 ],
 "metadata": {
  "kernelspec": {
   "display_name": "Python 3 (ipykernel)",
   "language": "python",
   "name": "python3"
  },
  "language_info": {
   "codemirror_mode": {
    "name": "ipython",
    "version": 3
   },
   "file_extension": ".py",
   "mimetype": "text/x-python",
   "name": "python",
   "nbconvert_exporter": "python",
   "pygments_lexer": "ipython3",
   "version": "3.8.12"
  }
 },
 "nbformat": 4,
 "nbformat_minor": 5
}
